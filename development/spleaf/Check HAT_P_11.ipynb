{
 "cells": [
  {
   "cell_type": "code",
   "execution_count": 5,
   "id": "969d1106-800d-404c-bd22-49100b1025c2",
   "metadata": {
    "tags": []
   },
   "outputs": [],
   "source": [
    "import numpy as np\n",
    "import matplotlib.pyplot as plt \n",
    "%matplotlib widget"
   ]
  },
  {
   "cell_type": "code",
   "execution_count": 83,
   "id": "e4d5821f-b236-4c5f-a263-064905234685",
   "metadata": {
    "tags": []
   },
   "outputs": [],
   "source": [
    "file_ha = np.genfromtxt('hatp11/HAT-P-11_Halpha_PyORBIT.dat')\n",
    "file_rv = np.genfromtxt('hatp11/HAT-P-11_RVs_PyORBIT.dat')\n",
    "file_rj = np.genfromtxt('hatp11/HAT-P-11_RVs_PyORBIT_JitterFlag.dat')\n",
    "file_si = np.genfromtxt('hatp11/HAT-P-11_Sindex_PyORBIT.dat')\n",
    "\n",
    "\n",
    "rv_model = np.genfromtxt('hatp11/RV_data_radial_velocities_b.dat', names=True)\n",
    "\n",
    "\n",
    "time = []\n",
    "values = []\n",
    "errors = []\n",
    "\n",
    "time.append(file_rv[:,0])\n",
    "values.append(file_rv[:,1]-rv_model['val_compare'] + 2.4)\n",
    "errors.append(file_rv[:,2])\n",
    "\n",
    "time.append(file_si[:,0])\n",
    "values.append(file_si[:,1]- 0.5729)\n",
    "errors.append(file_si[:,2])\n",
    "\n",
    "time.append(file_ha[:,0])\n",
    "values.append(file_ha[:,1]-0.045472)\n",
    "errors.append(file_ha[:,2])\n",
    "\n",
    "\n",
    "\n",
    "dataset_x0 = []\n",
    "dataset_res = []\n",
    "dataset_label = []\n",
    "dataset_er2 = []\n",
    "dataset_ej2 = []\n",
    "#for ii in range(0, 3):\n",
    "#    temp_input = np.append(temp_input, tsmooth)\n",
    "#    temp_label = np.append(temp_label, np.zeros_like(tsmooth, dtype=int) + ii)\n",
    "#\n",
    "#X_input = (temp_input, temp_label.astype(int))\n",
    "\n",
    "\n",
    "dataset_x0 = np.append(dataset_x0, file_rv[:,0])\n",
    "dataset_label = np.append(dataset_label, np.zeros_like(file_rv[:,0], dtype=int) + 0)\n",
    "dataset_res = np.append(dataset_res, file_rv[:,1]-rv_model['val_compare'] - -2.4)\n",
    "dataset_er2 = np.append(dataset_er2, file_rv[:,2]**2)\n",
    "dataset_ej2 = np.append(dataset_ej2, file_rv[:,2]**2 + 4.59**2)\n",
    "\n",
    "dataset_x0 = np.append(dataset_x0, file_si[:,0])\n",
    "dataset_label = np.append(dataset_label, np.zeros_like(file_si[:,0], dtype=int) + 1)\n",
    "dataset_res = np.append(dataset_res, file_si[:,1]-0.5729)\n",
    "dataset_er2 = np.append(dataset_er2, file_si[:,2]**2)\n",
    "dataset_ej2 = np.append(dataset_ej2, file_si[:,2]**2 + 0.0021**2)\n",
    "\n",
    "dataset_x0 = np.append(dataset_x0, file_ha[:,0])\n",
    "dataset_label = np.append(dataset_label, np.zeros_like(file_ha[:,0], dtype=int) + 2)\n",
    "dataset_res = np.append(dataset_res, file_ha[:,1]-0.045472)\n",
    "dataset_er2 = np.append(dataset_er2, file_ha[:,2]**2)\n",
    "dataset_ej2 = np.append(dataset_ej2, file_ha[:,2]**2 + 0.000328**2)\n",
    "\n"
   ]
  },
  {
   "cell_type": "code",
   "execution_count": 84,
   "id": "411d8c6b-a94a-4ee0-a66d-013fa8f1131d",
   "metadata": {
    "tags": []
   },
   "outputs": [],
   "source": [
    "from spleaf import cov, term\n",
    "\n",
    "t_full, y_full, yerr_full, series_index = cov.merge_series(time, values, errors)\n"
   ]
  },
  {
   "cell_type": "raw",
   "id": "2f8c90a4-dde4-4a32-bdf8-f0eababd4d28",
   "metadata": {},
   "source": [
    "Using threading pool for PyDE: True\n",
    "PyDE running\n",
    "RV_data [0]\n",
    "RV_data [77.89195169  1.          1.        ]\n",
    "Sindex_data [1]\n",
    "Sindex_data [77.89195169  0.41360051  1.        ]\n",
    "Halpha_data [2]\n",
    "Halpha_data [7.78919517e+01 4.13600506e-01 2.19408882e-02]\n",
    "\n",
    "[ 2.62468223e+01  4.86267829e+02  1.85241149e-03 -7.26573075e+00\n",
    "  7.33921793e-01 -3.99906414e-01  1.27418634e+01  0.00000000e+00\n",
    "  0.00000000e+00  7.78919517e+01  4.13600506e-01  2.19408882e-02]\n",
    "['GP.P', 'GP.rho', 'GP.eta', 'GP.alpha_0', 'GP.alpha_1', 'GP.alpha_2', 'GP.beta_0', 'GP.beta_1', 'GP.beta_2', 'jitter_0.sig', 'jitter_1.sig', 'jitter_2.sig']\n",
    "-791838058782.7339\n",
    "\n",
    "----- dataset:  RV_data\n",
    "jitter_0                  4.59        -0.34         0.38    (15-84 p)\n",
    "offset_0                  -2.4         -2.8          2.9    (15-84 p)\n",
    "\n",
    "\n",
    "----- dataset: RV_data                   ----- model: tinygp_multidimensional\n",
    "rot_amp                   45.9         -6.2          3.1    (15-84 p)\n",
    "con_amp                  -12.4         -1.3          1.2    (15-84 p)\n",
    "\n",
    "----- dataset:  Sindex_data\n",
    "jitter_0                0.0021      -0.0014       0.0015    (15-84 p)\n",
    "offset_0                0.5729      -0.0035       0.0034    (15-84 p)\n",
    "\n",
    "\n",
    "----- dataset: Sindex_data               ----- model: tinygp_multidimensional\n",
    "rot_amp                  0.927       -0.078        0.052    (15-84 p)\n",
    "con_amp                 0.0004      -0.0019       0.0019    (15-84 p)\n",
    "\n",
    "----- dataset:  Halpha_data\n",
    "jitter_0              0.000328    -0.000030     0.000033    (15-84 p)\n",
    "offset_0              0.045472    -0.000039     0.000040    (15-84 p)\n",
    "\n",
    "\n",
    "----- dataset: Halpha_data               ----- model: tinygp_multidimensional\n",
    "rot_amp                0.00404     -0.00096      0.00100    (15-84 p)\n",
    "con_amp              -0.000009    -0.000025     0.000026    (15-84 p)\n",
    "                                                                                                                                                             ----- common model:  b\n",
    "P                  4.887802443 -0.000000035  0.000000034    (15-84 p)\n",
    "K                        10.67        -0.67         0.65    (15-84 p)\n",
    "Tc             2454957.8132067   -0.0000052    0.0000053    (15-84 p)\n",
    "e                        0.237       -0.029        0.031    (15-84 p)\n",
    "omega                       14          -16           14    (15-84 p)\n",
    "\n",
    "----- common model:  activity\n",
    "Prot                     28.93        -0.37         0.41    (15-84 p)\n",
    "Oamp                     1.857        -0.15        0.099    (15-84 p)\n",
    "Pdec                      64.3         -4.0          5.3    (15-84 p)\n",
    "\n"
   ]
  },
  {
   "cell_type": "code",
   "execution_count": 66,
   "id": "30f871cd-6f18-431a-bc55-09c94369c77a",
   "metadata": {
    "tags": []
   },
   "outputs": [],
   "source": [
    "yerr_jit = yerr_full.copy()\n",
    "yerr_jit[series_index[0]] = np.sqrt(file_rv[:,2]**2 + 4.59**2)\n",
    "yerr_jit[series_index[1]] = np.sqrt(file_si[:,2]**2 + 0.0021**2)\n",
    "yerr_jit[series_index[2]] = np.sqrt(file_ha[:,2]**2 + 0.000328**2)"
   ]
  },
  {
   "cell_type": "code",
   "execution_count": null,
   "id": "08c3494f-e1c8-4a92-80dc-364eb562e4df",
   "metadata": {
    "tags": []
   },
   "outputs": [],
   "source": []
  },
  {
   "cell_type": "code",
   "execution_count": 67,
   "id": "0b8bda7e-8a3e-41bc-9a42-c2fd72235ad8",
   "metadata": {
    "tags": []
   },
   "outputs": [
    {
     "name": "stdout",
     "output_type": "stream",
     "text": [
      "882.4737849788542\n",
      "882.4737849788542\n",
      "882.4737849788542\n"
     ]
    }
   ],
   "source": [
    "D = cov.Cov(t_full,\n",
    "  err=term.Error(yerr_jit),\n",
    "  GP=term.MultiSeriesKernel(term.ESPKernel(1.0,  28.93, 64.3, 1.857, nharm=4), series_index,\n",
    "  [-12.4, 0.0004, -0.000009], [45.9,  0.927, 0.00404 ]))\n",
    "D_loglike = D.loglike(y_full)\n",
    "\n",
    "print(D_loglike)\n",
    "\n",
    "\n",
    "input_param = [28.93, 64.3, 1.857, -12.4, 0.0004, -0.000009, 45.9,  0.927, 0.00404]\n",
    "\n",
    "D_param = D.param[1:]\n",
    "D.set_param(input_param, D_param)\n",
    "D_loglike = D.loglike(y_full)\n",
    "print(D_loglike)\n",
    "\n",
    "D_param = D.param[1:]\n",
    "D.set_param(input_param, D_param)\n",
    "D_loglike = D.loglike(y_full)\n",
    "print(D_loglike)"
   ]
  },
  {
   "cell_type": "code",
   "execution_count": 85,
   "id": "2702f602-3eb4-4818-8f96-f5fa2e88f8dd",
   "metadata": {
    "tags": []
   },
   "outputs": [
    {
     "name": "stdout",
     "output_type": "stream",
     "text": [
      "754.583820849766\n"
     ]
    }
   ],
   "source": [
    "kwargs = {\n",
    "    'err': term.Error(yerr_full),\n",
    "    'GP': term.MultiSeriesKernel(term.ESPKernel(1.0, 2., 1000.0, 0.35, nharm=4), series_index,\n",
    "  np.ones(3), np.zeros(3)),\n",
    "    'jitter_inst00': term.InstrumentJitter(series_index[0], 1.0000000000000000),\n",
    "    'jitter_inst01': term.InstrumentJitter(series_index[1], 1.0000000000000000),\n",
    "    'jitter_inst02': term.InstrumentJitter(series_index[2], 1.0000000000000000),\n",
    "}\n",
    "\n",
    "input_param = [28.93, 64.3, 1.857, -12.4, 0.0004, -0.000009,45.9,  0.927, 0.00404, 4.59, 0.0021, 0.000328]\n",
    "\n",
    "\n",
    "D1 = cov.Cov(t_full, **kwargs)\n",
    "D1_param = D1.param[1:]\n",
    "D1.set_param(input_param, D1_param)\n",
    "\n",
    "D1_loglike = D1.loglike(y_full)\n",
    "\n",
    "print(D1_loglike)\n"
   ]
  },
  {
   "cell_type": "code",
   "execution_count": 86,
   "id": "0c0ce527-71bc-4802-bb53-96e4a6844382",
   "metadata": {
    "tags": []
   },
   "outputs": [
    {
     "name": "stdout",
     "output_type": "stream",
     "text": [
      "882.4737849788542\n",
      "882.4737849788542\n",
      "965.0335529481865\n",
      "965.0335529481865\n"
     ]
    }
   ],
   "source": [
    "kwargs = {\n",
    "    'err': term.Error(yerr_full),\n",
    "    'GP': term.MultiSeriesKernel(term.ESPKernel(1.0, 28.93, 64.3, 1.857, nharm=4), series_index,\n",
    "   [-12.4, 0.0004, -0.000009], [45.9,  0.927, 0.00404 ]),\n",
    "    'jitter_inst00': term.InstrumentJitter(series_index[0], 4.59),\n",
    "    'jitter_inst01': term.InstrumentJitter(series_index[1], 0.0021),\n",
    "    'jitter_inst02': term.InstrumentJitter(series_index[2], 0.000328),\n",
    "}\n",
    "kwargs2 = kwargs.copy()\n",
    "\n",
    "input_param = [28.93, 64.3, 1.857, -12.4, 0.0004, -0.000009,45.9,  0.927, 0.00404, 4.59, 0.0021, 0.000328]\n",
    "\n",
    "D2 = cov.Cov(t_full, **kwargs)\n",
    "\n",
    "D2_loglike = D2.loglike(y_full)\n",
    "\n",
    "\n",
    "print(D2_loglike)\n",
    "D2_param = D2.param[1:]\n",
    "D2.set_param(input_param, D2_param)\n",
    "D2_loglike = D2.loglike(y_full)\n",
    "print(D2_loglike)\n",
    "\n",
    "input_param = [28.93, 64.3, 1.857, -12.4, 0.0004, -0.000009,45.9,  0.927, 0.00404, 0, 0.0, 0.00]\n",
    "\n",
    "#input_param = [28.93, 64.3, 1.857, -12.4, 0.0004, -0.000009,45.9,  0.927, 0.00404, 4.59, 0.0021, 0.000328]\n",
    "\n",
    "D2.set_param(np.asarray(input_param), D2_param)\n",
    "D2_loglike = D2.loglike(y_full)\n",
    "print(D2_loglike)\n",
    "D2.set_param(input_param, D2_param)\n",
    "D2_loglike = D2.loglike(y_full)\n",
    "print(D2_loglike)\n"
   ]
  },
  {
   "cell_type": "code",
   "execution_count": null,
   "id": "dc39c1a8-f2b7-4b28-bc8e-a7eae3f18902",
   "metadata": {},
   "outputs": [],
   "source": [
    "  "
   ]
  },
  {
   "cell_type": "code",
   "execution_count": null,
   "id": "8784130f-794b-4499-9c5c-41b784309540",
   "metadata": {},
   "outputs": [],
   "source": []
  },
  {
   "cell_type": "code",
   "execution_count": null,
   "id": "124f900e-18e3-4cd1-8c26-528ac9f8c7d1",
   "metadata": {},
   "outputs": [],
   "source": []
  },
  {
   "cell_type": "code",
   "execution_count": 87,
   "id": "a3762c26-caef-4853-940b-3de27b8902bf",
   "metadata": {},
   "outputs": [],
   "source": [
    "import sys\n",
    "import jax\n",
    "jax.config.update(\"jax_enable_x64\", True)\n",
    "import jax.numpy as jnp\n",
    "from tinygp import kernels, GaussianProcess\n",
    "#from tinygp.helpers import JAXArray\n",
    "\n",
    "if sys.version_info[1] < 10:\n",
    "    raise Warning(\"You should be using Python 3.10 - tinygp may not work\")\n",
    "\n",
    "class LatentKernel(kernels.Kernel):\n",
    "    \"\"\"A custom kernel based on Rajpaul et al. (2015)\n",
    "\n",
    "    Args:\n",
    "        kernel: The kernel function describing the latent process. This can be any other\n",
    "            ``tinygp`` kernel.\n",
    "        coeff_prim: The primal coefficients for each class. This can be thought of as how\n",
    "            much the latent process itself projects into the observations for that class.\n",
    "            This should be an array with an entry for each class of observation.\n",
    "        coeff_deriv: The derivative coefficients for each class. This should have the same\n",
    "            shape as ``coeff_prim``.\n",
    "    \"\"\"\n",
    "\n",
    "    try:\n",
    "        kernel : kernels.Kernel\n",
    "        coeff_prim: jax.Array | float\n",
    "        coeff_deriv: jax.Array | float\n",
    "    except:\n",
    "        pass\n",
    "\n",
    "    def __init__(self, kernel, coeff_prim, coeff_deriv):\n",
    "        self.kernel = kernel\n",
    "        self.coeff_prim, self.coeff_deriv = jnp.broadcast_arrays(\n",
    "            jnp.asarray(coeff_prim), jnp.asarray(coeff_deriv)\n",
    "        )\n",
    "\n",
    "    def evaluate(self, X1, X2):\n",
    "        t1, label1 = X1\n",
    "        t2, label2 = X2\n",
    "\n",
    "        # Differentiate the kernel function: the first derivative wrt x1\n",
    "        Kp = jax.grad(self.kernel.evaluate, argnums=0)\n",
    "\n",
    "        # ... and the second derivative\n",
    "        Kpp = jax.grad(Kp, argnums=1)\n",
    "\n",
    "        # Evaluate the kernel matrix and all of its relevant derivatives\n",
    "        K = self.kernel.evaluate(t1, t2)\n",
    "        d2K_dx1dx2 = Kpp(t1, t2)\n",
    "\n",
    "        # For stationary kernels, these are related just by a minus sign, but we'll\n",
    "        # evaluate them both separately for generality's sake\n",
    "        dK_dx2 = jax.grad(self.kernel.evaluate, argnums=1)(t1, t2)\n",
    "        dK_dx1 = Kp(t1, t2)\n",
    "\n",
    "        # Extract the coefficients\n",
    "        a1 = self.coeff_prim[label1]\n",
    "        a2 = self.coeff_prim[label2]\n",
    "        b1 = self.coeff_deriv[label1]\n",
    "        b2 = self.coeff_deriv[label2]\n",
    "\n",
    "        # Construct the matrix element\n",
    "        return (\n",
    "            a1 * a2 * K\n",
    "            + a1 * b2 * dK_dx2\n",
    "            + b1 * a2 * dK_dx1\n",
    "            + b1 * b2 * d2K_dx1dx2\n",
    "        )\n",
    "\n",
    "\n",
    "def _build_tinygp_multidimensional(params):\n",
    "\n",
    "    base_kernel = kernels.ExpSquared(scale=jnp.abs(params[\"Pdec\"])) \\\n",
    "            * kernels.ExpSineSquared(\n",
    "            scale=jnp.abs(params[\"Prot\"]),\n",
    "            gamma=jnp.abs(params[\"gamma\"]))\n",
    "\n",
    "    kernel = LatentKernel(base_kernel, params['coeff_prime'], params['coeff_deriv'])\n",
    "    return GaussianProcess(\n",
    "        kernel, params['X'], diag=jnp.abs(params['diag']), mean=0.0\n",
    "    )\n",
    "\n",
    "@jax.jit\n",
    "def _loss_tinygp(params):\n",
    "    gp = _build_tinygp_multidimensional(params)\n",
    "    return gp.log_probability(params['y'])"
   ]
  },
  {
   "cell_type": "code",
   "execution_count": 88,
   "id": "e095b261-38fb-4e51-b5a8-47ea21e7971a",
   "metadata": {},
   "outputs": [
    {
     "name": "stdout",
     "output_type": "stream",
     "text": [
      "750.6751087298841\n",
      "963.3958376906472\n"
     ]
    }
   ],
   "source": [
    "\n",
    "tinygp_X = (dataset_x0, dataset_label.astype(int))\n",
    "\n",
    "input_param = [28.93, 64.3, 1.857, -12.4, 0.0004, -0.000009,45.9,  0.927, 0.00404, 4.59, 0.0021, 0.000328]\n",
    "theta_dict =  dict(\n",
    "    gamma=1. / (2.*input_param[2] ** 2),\n",
    "    Pdec=input_param[1],\n",
    "    Prot=input_param[0],\n",
    "    diag=dataset_ej2,\n",
    "    X=tinygp_X,\n",
    "    y=dataset_res,\n",
    "    coeff_prime=input_param[3:6],\n",
    "    coeff_deriv=input_param[6:9],\n",
    "    #x_predict = X_input\n",
    ")\n",
    "tinygp_log =  _loss_tinygp(theta_dict)\n",
    "print(tinygp_log)\n",
    "\n",
    "\n",
    "theta_dict =  dict(\n",
    "    gamma=1. / (2.*input_param[2] ** 2),\n",
    "    Pdec=input_param[1],\n",
    "    Prot=input_param[0],\n",
    "    diag=dataset_er2,\n",
    "    X=tinygp_X,\n",
    "    y=dataset_res,\n",
    "    coeff_prime=input_param[3:6],\n",
    "    coeff_deriv=input_param[6:9],\n",
    "    #x_predict = X_input\n",
    ")\n",
    "\n",
    "tinygp_log =  _loss_tinygp(theta_dict)\n",
    "print(tinygp_log)\n",
    "\n",
    "\n",
    "#gp = _build_tinygp_multidimensional(theta_dict)\n",
    "#_, cond_gp = gp.condition(theta_dict['y'], theta_dict['x_predict'])\n",
    "#\n",
    "#mu = cond_gp.mean\n",
    "#std = np.sqrt(cond_gp.variance)\n",
    "#mu_full = cond_gp.loc # or cond_gp.mean?"
   ]
  },
  {
   "cell_type": "code",
   "execution_count": 90,
   "id": "78d3967e-a742-4649-875f-619738c8ca8a",
   "metadata": {},
   "outputs": [],
   "source": [
    "'''\n",
    "def model_logchi2(self):\n",
    "        env = 1.0 / (self.e ** 2.0 + self.jitter ** 2.0)\n",
    "\n",
    "        #chi2 = -0.5 * (self.n * np.log(2 * np.pi) +\n",
    "        #               np.sum(self.residuals ** 2 * env - np.log(env)))\n",
    "        #print('{0:25s} {1:12f} {2:12f} \\n'.format(self.name_ref, chi2, np.std(self.residuals)))\n",
    "\n",
    "        return -0.5 * (self.n * np.log(2 * np.pi) +\n",
    "                       np.sum(self.residuals ** 2 * env - np.log(env)))\n",
    "'''"
   ]
  },
  {
   "cell_type": "code",
   "execution_count": null,
   "id": "14912f25-ac58-4ce7-bc90-d5e5aa4f4eb1",
   "metadata": {},
   "outputs": [],
   "source": []
  }
 ],
 "metadata": {
  "kernelspec": {
   "display_name": "Python 3 (ipykernel)",
   "language": "python",
   "name": "python3"
  },
  "language_info": {
   "codemirror_mode": {
    "name": "ipython",
    "version": 3
   },
   "file_extension": ".py",
   "mimetype": "text/x-python",
   "name": "python",
   "nbconvert_exporter": "python",
   "pygments_lexer": "ipython3",
   "version": "3.10.14"
  }
 },
 "nbformat": 4,
 "nbformat_minor": 5
}
