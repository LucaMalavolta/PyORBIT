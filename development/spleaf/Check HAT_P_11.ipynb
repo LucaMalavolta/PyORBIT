{
 "cells": [
  {
   "cell_type": "code",
   "execution_count": 1,
   "id": "969d1106-800d-404c-bd22-49100b1025c2",
   "metadata": {
    "tags": []
   },
   "outputs": [],
   "source": [
    "import numpy as np\n",
    "import matplotlib.pyplot as plt \n",
    "%matplotlib widget"
   ]
  },
  {
   "cell_type": "code",
   "execution_count": 3,
   "id": "e4d5821f-b236-4c5f-a263-064905234685",
   "metadata": {
    "tags": []
   },
   "outputs": [],
   "source": [
    "file_ha = np.genfromtxt('hatp11/HAT-P-11_Halpha_PyORBIT.dat')\n",
    "file_rv = np.genfromtxt('hatp11/HAT-P-11_RVs_PyORBIT.dat')\n",
    "file_rj = np.genfromtxt('hatp11/HAT-P-11_RVs_PyORBIT_JitterFlag.dat')\n",
    "file_si = np.genfromtxt('hatp11/HAT-P-11_Sindex_PyORBIT.dat')\n",
    "\n",
    "\n",
    "time = []\n",
    "values = []\n",
    "errors = []\n",
    "\n",
    "time.append(file_rv[:,0])\n",
    "values.append(file_rv[:,1])\n",
    "errors.append(file_rv[:,2])\n",
    "\n",
    "time.append(file_si[:,0])\n",
    "values.append(file_si[:,1])\n",
    "errors.append(file_si[:,2])\n",
    "\n",
    "time.append(file_ha[:,0])\n",
    "values.append(file_ha[:,1])\n",
    "errors.append(file_ha[:,2])"
   ]
  },
  {
   "cell_type": "code",
   "execution_count": 5,
   "id": "411d8c6b-a94a-4ee0-a66d-013fa8f1131d",
   "metadata": {
    "tags": []
   },
   "outputs": [],
   "source": [
    "from spleaf import cov, term\n",
    "\n",
    "t_full, y_full, yerr_full, series_index = cov.merge_series(time, values, errors)\n"
   ]
  },
  {
   "cell_type": "raw",
   "id": "2f8c90a4-dde4-4a32-bdf8-f0eababd4d28",
   "metadata": {},
   "source": [
    "Using threading pool for PyDE: True\n",
    "PyDE running\n",
    "RV_data [0]\n",
    "RV_data [77.89195169  1.          1.        ]\n",
    "Sindex_data [1]\n",
    "Sindex_data [77.89195169  0.41360051  1.        ]\n",
    "Halpha_data [2]\n",
    "Halpha_data [7.78919517e+01 4.13600506e-01 2.19408882e-02]\n",
    "\n",
    "[ 2.62468223e+01  4.86267829e+02  1.85241149e-03 -7.26573075e+00\n",
    "  7.33921793e-01 -3.99906414e-01  1.27418634e+01  0.00000000e+00\n",
    "  0.00000000e+00  7.78919517e+01  4.13600506e-01  2.19408882e-02]\n",
    "['GP.P', 'GP.rho', 'GP.eta', 'GP.alpha_0', 'GP.alpha_1', 'GP.alpha_2', 'GP.beta_0', 'GP.beta_1', 'GP.beta_2', 'jitter_0.sig', 'jitter_1.sig', 'jitter_2.sig']\n",
    "-791838058782.7339\n",
    "\n"
   ]
  },
  {
   "cell_type": "code",
   "execution_count": 36,
   "id": "30f871cd-6f18-431a-bc55-09c94369c77a",
   "metadata": {
    "tags": []
   },
   "outputs": [],
   "source": [
    "yerr_jit = yerr_full.copy()\n",
    "yerr_jit[series_index[0]] = np.sqrt(file_rv[:,2]**2 + 77.89195169**2)\n",
    "yerr_jit[series_index[1]] = np.sqrt(file_si[:,2]**2 + 0.41360051**2)\n",
    "yerr_jit[series_index[2]] = np.sqrt(file_ha[:,2]**2 + 0.0219408882**2)"
   ]
  },
  {
   "cell_type": "code",
   "execution_count": null,
   "id": "08c3494f-e1c8-4a92-80dc-364eb562e4df",
   "metadata": {
    "tags": []
   },
   "outputs": [],
   "source": []
  },
  {
   "cell_type": "code",
   "execution_count": 37,
   "id": "0b8bda7e-8a3e-41bc-9a42-c2fd72235ad8",
   "metadata": {
    "tags": []
   },
   "outputs": [
    {
     "name": "stdout",
     "output_type": "stream",
     "text": [
      "-664.846825399706\n",
      "-665.2023469069541\n",
      "-665.2023469069541\n"
     ]
    }
   ],
   "source": [
    "D = cov.Cov(t_full,\n",
    "  err=term.Error(yerr_jit),\n",
    "  GP=term.MultiSeriesKernel(term.ESPKernel(1.0,  2.62468223e+01, 4.86267829e+02, 1.85241149e-03), series_index,\n",
    "  [7.26573075e+00, 7.33921793e-01, -3.99906414e-01], [1.27418634e+01, 0.00000000e+00, 0.00000000e+00 ]))\n",
    "D_loglike = D.loglike(y_full)\n",
    "\n",
    "print(D_loglike)\n",
    "\n",
    "\n",
    "input_param = [2.62468223e+01,4.86267829e+02,1.85241149e-03,-7.26573075e+00,\n",
    "  7.33921793e-01,-3.99906414e-01,1.27418634e+01,0.00000000e+00,\n",
    "  0.00000000e+00]\n",
    "\n",
    "D_param = D.param[1:]\n",
    "D.set_param(input_param, D_param)\n",
    "D_loglike = D.loglike(y_full)\n",
    "print(D_loglike)\n",
    "\n",
    "D_param = D.param[1:]\n",
    "D.set_param(input_param, D_param)\n",
    "D_loglike = D.loglike(y_full)\n",
    "print(D_loglike)"
   ]
  },
  {
   "cell_type": "code",
   "execution_count": 38,
   "id": "2702f602-3eb4-4818-8f96-f5fa2e88f8dd",
   "metadata": {
    "tags": []
   },
   "outputs": [
    {
     "name": "stdout",
     "output_type": "stream",
     "text": [
      "-665.2023489571075\n"
     ]
    }
   ],
   "source": [
    "kwargs = {\n",
    "    'err': term.Error(yerr_full),\n",
    "    'GP': term.MultiSeriesKernel(term.ESPKernel(1.0, 2., 1000.0, 0.35), series_index,\n",
    "  np.ones(3), np.zeros(3)),\n",
    "    'jitter_inst00': term.InstrumentJitter(series_index[0], 1.0000000000000000),\n",
    "    'jitter_inst01': term.InstrumentJitter(series_index[1], 1.0000000000000000),\n",
    "    'jitter_inst02': term.InstrumentJitter(series_index[2], 1.0000000000000000),\n",
    "}\n",
    "\n",
    "input_param = [ 2.62468223e+01,4.86267829e+02,1.85241149e-03,-7.26573075e+00,\n",
    "  7.33921793e-01,-3.99906414e-01,1.27418634e+01,0.00000000e+00,\n",
    "  0.00000000e+00,7.78919517e+01,4.13600506e-01,2.19408882e-02]\n",
    "\n",
    "D1 = cov.Cov(t_full, **kwargs)\n",
    "D1_param = D1.param[1:]\n",
    "D1.set_param(input_param, D1_param)\n",
    "\n",
    "D1_loglike = D1.loglike(y_full)\n",
    "\n",
    "print(D1_loglike)\n"
   ]
  },
  {
   "cell_type": "code",
   "execution_count": 60,
   "id": "0c0ce527-71bc-4802-bb53-96e4a6844382",
   "metadata": {
    "tags": []
   },
   "outputs": [
    {
     "name": "stdout",
     "output_type": "stream",
     "text": [
      "-664.8468274504726\n",
      "-665.2023489571075\n",
      "-665.2023489571075\n",
      "-665.2023489571075\n"
     ]
    }
   ],
   "source": [
    "kwargs = {\n",
    "    'err': term.Error(yerr_full),\n",
    "    'GP': term.MultiSeriesKernel(term.ESPKernel(1.0, 2.62468223e+01,4.86267829e+02,1.85241149e-03), series_index,\n",
    "   [7.26573075e+00, 7.33921793e-01, -3.99906414e-01], [1.27418634e+01, 0.00000000e+00, 0.00000000e+00 ]),\n",
    "    'jitter_inst00': term.InstrumentJitter(series_index[0], 7.78919517e+01),\n",
    "    'jitter_inst01': term.InstrumentJitter(series_index[1], 4.13600506e-01),\n",
    "    'jitter_inst02': term.InstrumentJitter(series_index[2], 2.19408882e-02),\n",
    "}\n",
    "kwargs2 = kwargs.copy()\n",
    "\n",
    "input_param = [ 2.62468223e+01,4.86267829e+02,1.85241149e-03,-7.26573075e+00,\n",
    "  7.33921793e-01,-3.99906414e-01,1.27418634e+01,0.00000000e+00,\n",
    "  0.00000000e+00,7.78919517e+01,4.13600506e-01,2.19408882e-02]\n",
    "\n",
    "D2 = cov.Cov(t_full, **kwargs)\n",
    "\n",
    "D2_loglike = D2.loglike(y_full)\n",
    "\n",
    "\n",
    "print(D2_loglike)\n",
    "D2_param = D2.param[1:]\n",
    "D2.set_param(input_param, D2_param)\n",
    "D2_loglike = D2.loglike(y_full)\n",
    "print(D2_loglike)\n",
    "\n",
    "input_param = [ 2.62468223e+01,4.86267829e+02,1.85241149e-03,-7.26573075e+00,\n",
    "  7.33921793e-01,-3.99906414e-01,1.27418634e+01,0.00000000e+00,\n",
    "  0.00000000e+00,7.78919517e+01,4.13600506e-01,2.19408882e-02]\n",
    "\n",
    "D2.set_param(np.asarray(input_param), D2_param)\n",
    "D2_loglike = D2.loglike(y_full)\n",
    "print(D2_loglike)\n",
    "D2.set_param(input_param, D2_param)\n",
    "D2_loglike = D2.loglike(y_full)\n",
    "print(D2_loglike)\n"
   ]
  },
  {
   "cell_type": "code",
   "execution_count": null,
   "id": "dc39c1a8-f2b7-4b28-bc8e-a7eae3f18902",
   "metadata": {},
   "outputs": [],
   "source": [
    "  "
   ]
  }
 ],
 "metadata": {
  "kernelspec": {
   "display_name": "Python 3 (ipykernel)",
   "language": "python",
   "name": "python3"
  },
  "language_info": {
   "codemirror_mode": {
    "name": "ipython",
    "version": 3
   },
   "file_extension": ".py",
   "mimetype": "text/x-python",
   "name": "python",
   "nbconvert_exporter": "python",
   "pygments_lexer": "ipython3",
   "version": "3.11.3"
  }
 },
 "nbformat": 4,
 "nbformat_minor": 5
}
