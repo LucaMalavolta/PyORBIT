{
 "cells": [
  {
   "cell_type": "markdown",
   "metadata": {},
   "source": [
    "# TOI-1130 photoTRADES"
   ]
  },
  {
   "cell_type": "code",
   "execution_count": 2,
   "metadata": {},
   "outputs": [
    {
     "name": "stderr",
     "output_type": "stream",
     "text": [
      "/home/malavolta/CODE/others/anaconda3/envs/pyorbit_trades/lib/python3.10/site-packages/tqdm/auto.py:21: TqdmWarning: IProgress not found. Please update jupyter and ipywidgets. See https://ipywidgets.readthedocs.io/en/stable/user_install.html\n",
      "  from .autonotebook import tqdm as notebook_tqdm\n"
     ]
    }
   ],
   "source": [
    "import numpy as np\n",
    "import os\n",
    "import sys\n",
    "# import glob\n",
    "# import time as timer\n",
    "from astropy.time import Time\n",
    "from astropy.io import fits\n",
    "from astropy.table import Table\n",
    "from pytransit import RoadRunnerModel\n",
    "import matplotlib.pyplot as plt"
   ]
  },
  {
   "cell_type": "markdown",
   "metadata": {},
   "source": [
    "Import `pytrades`"
   ]
  },
  {
   "cell_type": "code",
   "execution_count": 3,
   "metadata": {},
   "outputs": [],
   "source": [
    "from pytrades import constants as cst\n",
    "from pytrades import ancillary as anc\n",
    "from pytrades import pytrades"
   ]
  },
  {
   "cell_type": "markdown",
   "metadata": {},
   "source": [
    "Set `rcParams` with my default values"
   ]
  },
  {
   "cell_type": "code",
   "execution_count": 4,
   "metadata": {},
   "outputs": [],
   "source": [
    "set_unit_base = anc.set_unit_base\n",
    "anc.set_rcParams()"
   ]
  },
  {
   "cell_type": "markdown",
   "metadata": {},
   "source": [
    "Define input and output folders"
   ]
  },
  {
   "cell_type": "code",
   "execution_count": 5,
   "metadata": {},
   "outputs": [],
   "source": [
    "here_folder = os.path.abspath(\".\")\n",
    "\n",
    "photometry_folder = os.path.join(here_folder, \"photometry\")\n",
    "# radial_velocities_folder = os.path.join(here_folder, \"radial_velocities\")\n",
    "# transit_times_folder = os.path.join(here_folder, \"transit_times\")\n",
    "\n",
    "out_folder = os.path.join(here_folder, \"output\")\n",
    "os.makedirs(out_folder, exist_ok=True)\n",
    "\n",
    "map_out_folder = os.path.join(out_folder, \"01_map\")\n",
    "os.makedirs(map_out_folder, exist_ok=True)"
   ]
  },
  {
   "cell_type": "markdown",
   "metadata": {},
   "source": [
    "## Photometry"
   ]
  },
  {
   "cell_type": "markdown",
   "metadata": {},
   "source": [
    "### TESS"
   ]
  },
  {
   "cell_type": "code",
   "execution_count": 6,
   "metadata": {},
   "outputs": [
    {
     "name": "stdout",
     "output_type": "stream",
     "text": [
      "Filename: /home/malavolta/CODE/PyORBIT/development/photodynamical/photometry/hlsp_qlp_tess_ffi_s0013-0000000254113311_tess_v01_llc.fits\n",
      "No.    Name      Ver    Type      Cards   Dimensions   Format\n",
      "  0  PRIMARY       1 PrimaryHDU      29   ()      \n",
      "  1  LIGHTCURVE    1 BinTableHDU     65   1320R x 13C   [D, J, E, E, E, J, J, E, E, E, E, E, E]   \n",
      "None\n",
      "exposure time = 0.020833d == 1800\n"
     ]
    }
   ],
   "source": [
    "# tess_s13_file = os.path.join(\n",
    "#     photometry_folder, \n",
    "#     \"hlsp_qlp_tess_ffi_s0013-0000000254113311_tess_v01_llc.txt\"\n",
    "# )\n",
    "# time_s13, flux_sap_s13, flux_sap_err_s13 = np.genfromtxt(tess_s13_file, delimiter=\",\", unpack=True)\n",
    "\n",
    "tess_s13_file = os.path.join(\n",
    "    photometry_folder, \n",
    "    \"hlsp_qlp_tess_ffi_s0013-0000000254113311_tess_v01_llc.fits\"\n",
    ")\n",
    "with fits.open(tess_s13_file) as hdul:\n",
    "    print(hdul.info())\n",
    "    s13_header = hdul[1].header\n",
    "    tess_s13 = Table(hdul[1].data)\n",
    "\n",
    "# print(s13_header)\n",
    "texp = s13_header[\"TIMEDEL\"]\n",
    "print(\"exposure time = {:.6f}d == {:.0f}\".format(texp, texp*cst.day2sec))\n",
    "n_over = int(texp*cst.day2sec / 120.0)+1"
   ]
  },
  {
   "cell_type": "code",
   "execution_count": 7,
   "metadata": {},
   "outputs": [],
   "source": [
    "# The input data is stored in tess_s13\n",
    "\n",
    "#tess_s13"
   ]
  },
  {
   "cell_type": "code",
   "execution_count": 8,
   "metadata": {},
   "outputs": [],
   "source": [
    "# We are associating the following variables to columns within the tess_s13 dataset\n",
    "# As always, we are only interested in the Time, Flux and Fluxx error columns\n",
    "\n",
    "time_s13, flux_sap_s13, flux_sap_err_s13 = tess_s13[\"TIME\"], tess_s13[\"KSPSAP_FLUX\"], tess_s13[\"KSPSAP_FLUX_ERR\"]\n",
    "quality = tess_s13[\"QUALITY\"]\n",
    "ok = np.logical_and(\n",
    "    np.isnan(flux_sap_s13) == False,\n",
    "    quality == 0\n",
    ")\n",
    "time_s13, flux_sap_s13, flux_sap_err_s13 = time_s13[ok], flux_sap_s13[ok], flux_sap_err_s13[ok]"
   ]
  },
  {
   "cell_type": "code",
   "execution_count": 9,
   "metadata": {},
   "outputs": [],
   "source": [
    "fileout = open('photometry/tess_v01_llc_PyORBIT.dat', 'w')\n",
    "for b, v, e in zip(time_s13, flux_sap_s13, flux_sap_err_s13 ):\n",
    "    fileout.write('{0:16.8f} {1:12.8f} {2:12.8f} 0 -1 -1 \\n'.format(b,v,e))\n",
    "fileout.close()"
   ]
  },
  {
   "cell_type": "code",
   "execution_count": 10,
   "metadata": {},
   "outputs": [],
   "source": [
    "# fig = plt.figure()\n",
    "\n",
    "# plt.title(\"TESS-S13\")\n",
    "# plt.errorbar(\n",
    "#     time_s13, flux_sap_s13,\n",
    "#     yerr=flux_sap_err_s13,\n",
    "#     color='black',\n",
    "#     fmt='o',\n",
    "#     ms=1.5,\n",
    "#     ls='',\n",
    "#     ecolor='gray',\n",
    "#     elinewidth=0.4,\n",
    "#     capsize=0\n",
    "# )\n",
    "\n",
    "# plt.show()\n",
    "# plt.close(fig)"
   ]
  },
  {
   "cell_type": "code",
   "execution_count": null,
   "metadata": {},
   "outputs": [],
   "source": []
  },
  {
   "cell_type": "markdown",
   "metadata": {},
   "source": [
    "3 CHEOPS LCs AS TEST"
   ]
  },
  {
   "cell_type": "code",
   "execution_count": 11,
   "metadata": {},
   "outputs": [],
   "source": [
    "# a transit of planet b\n",
    "file_cheops = os.path.join(\n",
    "    photometry_folder,\n",
    "    \"CHEOPS-PIPE_TOI-1130b_v04_CH_PR100031_TG042201_V0200_detrended.dat\"\n",
    ")\n",
    "time_cheops_b, flux_cheops_b, flux_cheops_err_b = np.genfromtxt(file_cheops, usecols=(0,1,2), unpack=True)"
   ]
  },
  {
   "cell_type": "code",
   "execution_count": 12,
   "metadata": {},
   "outputs": [],
   "source": [
    "# a transit of planet c\n",
    "file_cheops = os.path.join(\n",
    "    photometry_folder,\n",
    "    \"CHEOPS-PIPE_TOI-1130c_v03_CH_PR100015_TG018201_V0200_detrended.dat\"\n",
    ")\n",
    "time_cheops_c, flux_cheops_c, flux_cheops_err_c = np.genfromtxt(file_cheops, usecols=(0,1,2), unpack=True)"
   ]
  },
  {
   "cell_type": "code",
   "execution_count": 13,
   "metadata": {},
   "outputs": [],
   "source": [
    "# the transit of planet b and c\n",
    "file_cheops = os.path.join(\n",
    "    photometry_folder,\n",
    "    \"CHEOPS-PIPE_TOI-1130c_v06_CH_PR120053_TG004701_V0200_normalized.dat\"\n",
    ")\n",
    "time_cheops_bc, flux_cheops_bc, flux_cheops_err_bc = np.genfromtxt(file_cheops, usecols=(0,1,2), unpack=True)"
   ]
  },
  {
   "cell_type": "markdown",
   "metadata": {},
   "source": [
    "## Radial Velocities"
   ]
  },
  {
   "cell_type": "markdown",
   "metadata": {},
   "source": [
    "### NONE"
   ]
  },
  {
   "cell_type": "code",
   "execution_count": 14,
   "metadata": {},
   "outputs": [],
   "source": [
    "#t_rv_obs = []"
   ]
  },
  {
   "cell_type": "markdown",
   "metadata": {},
   "source": [
    "## Transit times"
   ]
  },
  {
   "cell_type": "markdown",
   "metadata": {},
   "source": [
    "### NONE"
   ]
  },
  {
   "cell_type": "markdown",
   "metadata": {},
   "source": [
    "## Set `pytrades` configuration"
   ]
  },
  {
   "cell_type": "code",
   "execution_count": 15,
   "metadata": {},
   "outputs": [
    {
     "name": "stdout",
     "output_type": "stream",
     "text": [
      "t_epoch = 1657.0\n",
      "t_start = 1647.7246043610537\n",
      "t_end   = 2752.82400874\n",
      "total integration time: 1105.0994043789462 days\n"
     ]
    }
   ],
   "source": [
    "time_all = np.concatenate((time_s13, time_cheops_b, time_cheops_c, time_cheops_bc))\n",
    "#time_all is just an array made up by \"joinig\" (concatenating) the \"Time\" arrays of each of the four data sets.\n",
    "\n",
    "t_epoch = 1657.0 # I BELIEVE the t_epoch is the time at which we define our orbital parameters\n",
    "t_start = np.min(time_all) - 10.0 # The start time of the simulation is just a little bit before the first (smallest) timestamp within the time_all array\n",
    "# t_start = t_epoch\n",
    "# t_end = Time(\"2023-08-30T00:00:00\", format=\"isot\", scale=\"tdb\").jd - cst.btjd\n",
    "t_end = np.max(time_all) + 1.0 # Finishing time is a little bit after the last (highest) timestamp in time_all\n",
    "t_int = t_end - t_start\n",
    "\n",
    "print(\"t_epoch = {}\".format(t_epoch))\n",
    "print(\"t_start = {}\".format(t_start))\n",
    "print(\"t_end   = {}\".format(t_end))\n",
    "print(\"total integration time: {} days\".format(t_int))\n",
    "\n",
    "body_names = [\"star\", \"b\", \"c\"]\n",
    "n_body = len(\n",
    "    body_names\n",
    ")  # number of bodies (NOT PLANETS) in the system, that is star + planets"
   ]
  },
  {
   "cell_type": "markdown",
   "metadata": {},
   "source": [
    "Let's define the system parameters"
   ]
  },
  {
   "cell_type": "code",
   "execution_count": 16,
   "metadata": {},
   "outputs": [],
   "source": [
    "sim = pytrades.PhotoTRADES(\n",
    "    n_body,\n",
    "    t_epoch,\n",
    "    t_start,\n",
    "    t_int,\n",
    "    duration_check=1,\n",
    "    encounter_check=True,\n",
    "    do_hill_check=False,\n",
    "    amd_hill_check=False,\n",
    "    rv_res_gls=False,\n",
    ")\n",
    "\n",
    "\n"
   ]
  },
  {
   "cell_type": "code",
   "execution_count": 17,
   "metadata": {},
   "outputs": [],
   "source": [
    "\n",
    "cheops = {}\n",
    "anc_cheops = {}\n",
    "cheops[0] =  pytrades.set_photometry_portion(\n",
    "    time_cheops_b, flux_cheops_b, flux_cheops_err_b,\n",
    "            n_oversample=1,\n",
    "            t_exp_d=60.0 / 86400.)\n",
    "cheops[1] =  pytrades.set_photometry_portion(\n",
    "    time_cheops_c, flux_cheops_c, flux_cheops_err_c,\n",
    "            n_oversample=1,\n",
    "            t_exp_d=60.0 / 86400.)\n",
    "cheops[2] =  pytrades.set_photometry_portion(\n",
    "    time_cheops_bc, flux_cheops_bc, flux_cheops_err_bc,\n",
    "            n_oversample=1,\n",
    "            t_exp_d=60.0 / 86400.)\n",
    "anc_cheops[0] = None\n",
    "anc_cheops[1] = None\n",
    "anc_cheops[2] = None\n",
    "\n",
    "tess = {}\n",
    "anc_tess = {}\n",
    "\n",
    "tess[0] = pytrades.set_photometry_portion(\n",
    "            time_s13, flux_sap_s13, flux_sap_err_s13,\n",
    "            n_oversample=1,\n",
    "            t_exp_d=60.0 / 86400.)\n",
    "anc_tess[0] = None\n",
    "#print(tess[0])\n",
    "\n",
    "\n",
    "chiron_file = os.path.join('photoTRADES_TOI-1130/radial_velocities/', \"Huang2020_obsRV.dat\")\n",
    "t_rv_chiron, rv_chiron, erv_chiron = np.genfromtxt(chiron_file, unpack=True)\n",
    "chiron = {\"time\": t_rv_chiron, \"rv\": rv_chiron, \"rv_err\": erv_chiron}\n"
   ]
  },
  {
   "cell_type": "code",
   "execution_count": 18,
   "metadata": {},
   "outputs": [],
   "source": [
    "#sim.add_photometry(\"cheops\", cheops, anc_cheops)\n",
    "sim.add_photometry(\"tess\", tess, anc_tess)\n",
    "sim.add_radial_velocity(\"CHIRON\", chiron, 0)  # chiron will have the source id 1\n"
   ]
  },
  {
   "cell_type": "code",
   "execution_count": 19,
   "metadata": {},
   "outputs": [],
   "source": [
    "sim.set_radial_velocity_sorting()  # sort the radial velocities\\"
   ]
  },
  {
   "cell_type": "code",
   "execution_count": 20,
   "metadata": {},
   "outputs": [],
   "source": [
    "sim.update_n_data()"
   ]
  },
  {
   "cell_type": "code",
   "execution_count": 21,
   "metadata": {},
   "outputs": [],
   "source": [
    "# These orbital parameters are defined at one specific instant. Is it at t_epoch?\n",
    "\n",
    "M_msun = np.array(\n",
    "    [0.745059, 19.833346 * cst.Mears, 335.603435 * cst.Mears]\n",
    ")  # Masses in Solar unit\n",
    "R_rsun = np.array(\n",
    "    [0.697470, 3.657000 * cst.Rears, 12.983016 * cst.Rears]\n",
    ")  # Radii in Solar unit\n",
    "P_day = np.array([0.0, 4.074554, 8.350190])  # Periods in days\n",
    "ecc_val = np.array([0.0, 0.0521624, 0.039773])  # eccentricities\n",
    "argp_deg = np.array([0.0, 141.11112, 182.502357])  # argument of pericenters in degrees\n",
    "mA_deg = np.array([0.0, 159.696701, 233.068994])  # mean anonalies in degrees\n",
    "inc_deg = np.array([0.0, 87.494901, 87.613475])  # inclinations in degrees\n",
    "lN_deg = np.array([0.0, 180.0, 179.993043])  # longitude of ascending nodes in degrees"
   ]
  },
  {
   "cell_type": "code",
   "execution_count": 22,
   "metadata": {},
   "outputs": [],
   "source": [
    "\n",
    "sim.add_default_physical_parameters(\n",
    "    M_msun, R_rsun, P_day, ecc_val, argp_deg, mA_deg, inc_deg, lN_deg\n",
    ")"
   ]
  },
  {
   "cell_type": "code",
   "execution_count": 23,
   "metadata": {},
   "outputs": [
    {
     "name": "stdout",
     "output_type": "stream",
     "text": [
      "{'cheops': array([0.300833, 0.407615]), 'tess': array([0.384825, 0.322173])}\n"
     ]
    }
   ],
   "source": [
    "ld_vals = {\n",
    "    \"cheops\": np.array([0.300833, 0.407615]),\n",
    "    \"tess\": np.array([0.384825, 0.322173])\n",
    "}\n",
    "ld_quads = {k: v.copy() for k, v in ld_vals.items()}\n",
    "\n",
    "print(ld_quads)"
   ]
  },
  {
   "cell_type": "code",
   "execution_count": null,
   "metadata": {},
   "outputs": [],
   "source": [
    "(\n",
    "    time_steps,\n",
    "    orbits,\n",
    "    transits,\n",
    "    durations,\n",
    "    lambda_rm,\n",
    "    kep_elem,\n",
    "    body_flag,\n",
    "    rv_sim,\n",
    "    stable,\n",
    ") = sim.orbital_parameters_to_transits(\n",
    "    M_msun, R_rsun, P_day, ecc_val, argp_deg, mA_deg, inc_deg, lN_deg\n",
    ")\n",
    "phot_sim_v0 = sim.get_simulate_flux(\n",
    "    R_rsun, ld_quads, transits, durations, body_flag, kep_elem,\n",
    "    time_key=\"time\"\n",
    ")"
   ]
  },
  {
   "cell_type": "code",
   "execution_count": null,
   "metadata": {},
   "outputs": [],
   "source": [
    "phot_sim_v0, rv_sim, sim_transits = sim.full_photodyn(\n",
    "    M_msun, R_rsun, P_day, ecc_val, argp_deg, mA_deg, inc_deg, lN_deg, ld_quads\n",
    ")"
   ]
  },
  {
   "cell_type": "markdown",
   "metadata": {},
   "source": [
    "### Within `photoTRADES` object/version ... skip it"
   ]
  },
  {
   "cell_type": "code",
   "execution_count": null,
   "metadata": {},
   "outputs": [],
   "source": [
    "# sim = pytrades.PhotoTRADES(\n",
    "#     n_body,\n",
    "#     t_epoch,\n",
    "#     t_start,\n",
    "#     t_int,\n",
    "#     duration_check=1,\n",
    "#     encounter_check=True,\n",
    "#     do_hill_check=False,\n",
    "#     amd_hill_check=False,\n",
    "#     rv_res_gls=False,\n",
    "# )"
   ]
  },
  {
   "cell_type": "code",
   "execution_count": null,
   "metadata": {},
   "outputs": [],
   "source": [
    "# sim.add_default_physical_parameters(\n",
    "#     M_msun, R_rsun, P_day, ecc_val, argp_deg, mA_deg, inc_deg, lN_deg\n",
    "# )"
   ]
  },
  {
   "cell_type": "markdown",
   "metadata": {},
   "source": [
    "Try the functions to simulate transit times, radial velocities, and photometry"
   ]
  },
  {
   "cell_type": "markdown",
   "metadata": {},
   "source": [
    "Run the simulation as splitted in transit times + radial velocities ..."
   ]
  },
  {
   "cell_type": "code",
   "execution_count": null,
   "metadata": {},
   "outputs": [],
   "source": [
    "# (\n",
    "#     time_steps,\n",
    "#     orbits,\n",
    "#     transits,\n",
    "#     durations,\n",
    "#     lambda_rm,\n",
    "#     kep_elem,\n",
    "#     body_flag,\n",
    "#     rv_sim,\n",
    "#     stable,\n",
    "# ) = sim.orbital_parameters_to_transits(\n",
    "#     M_msun, R_rsun, P_day, ecc_val, argp_deg, mA_deg, inc_deg, lN_deg\n",
    "# )"
   ]
  },
  {
   "cell_type": "markdown",
   "metadata": {},
   "source": [
    "### `pytrades` simple version"
   ]
  },
  {
   "cell_type": "markdown",
   "metadata": {},
   "source": [
    "Initialise `trades` only once"
   ]
  },
  {
   "cell_type": "code",
   "execution_count": null,
   "metadata": {},
   "outputs": [],
   "source": [
    "# Instead of calling the PhotoTRADES method, we're calling the args_init method with the same arguments\n",
    "\n",
    "pytrades.args_init(\n",
    "    n_body, # mandatory\n",
    "    1, # duration_check # mandatory\n",
    "    t_epoch=None, # not needed here\n",
    "    t_start=None, # not needed here\n",
    "    t_int=None, # not needed here\n",
    "    encounter_check=True, # better alway True, we do not want close encounters!\n",
    "    do_hill_check=False, # at will, as input option\n",
    "    amd_hill_check=False, # at will, as input option\n",
    "    rv_res_gls=False, # at will, as input option\n",
    ")"
   ]
  },
  {
   "cell_type": "markdown",
   "metadata": {},
   "source": [
    "Integrates and compute transit times, durations, etc. To be called within the log-likelihood"
   ]
  },
  {
   "cell_type": "code",
   "execution_count": null,
   "metadata": {},
   "outputs": [],
   "source": [
    "(\n",
    "    time_steps,\n",
    "    orbits,\n",
    "    transits,\n",
    "    durations,\n",
    "    lambda_rm,\n",
    "    kep_elem,\n",
    "    body_flag,\n",
    "    rv_sim, # {\"time\": array, \"rv\": array} the index will match the input t_rv_obs array\n",
    "    stable,\n",
    ") = pytrades.orbital_parameters_to_transits(\n",
    "    t_epoch, t_start, t_int, M_msun, R_rsun, P_day, ecc_val, argp_deg, mA_deg, inc_deg, lN_deg,\n",
    "    t_rv_obs # this can be an empty list [] and it will ignore it, otherwise provide a list time at which compute RV\n",
    ")"
   ]
  },
  {
   "cell_type": "markdown",
   "metadata": {},
   "source": [
    "No issues not providing observed RV or Transit times"
   ]
  },
  {
   "cell_type": "code",
   "execution_count": null,
   "metadata": {},
   "outputs": [],
   "source": [
    "print(rv_sim) # So no isse when not providing RV, it looks like it just returns a dictionary of empty arrays"
   ]
  },
  {
   "cell_type": "code",
   "execution_count": null,
   "metadata": {},
   "outputs": [],
   "source": [
    "print(rv_sim)"
   ]
  },
  {
   "cell_type": "markdown",
   "metadata": {},
   "source": [
    "Function to compute the photometry at each transit for all bodies"
   ]
  },
  {
   "cell_type": "code",
   "execution_count": null,
   "metadata": {},
   "outputs": [],
   "source": [
    "# This function will use a specific transit model (tm) to calculate the flux at each time during transits\n",
    "# You have to provide certain initial parameters, such as the transit model, the transit times, durations, orbital parameters, and limb darkening coefficients\n",
    "\n",
    "def compute_single_flux_pytransit(tm, time_in, transits, durations, rp_rs, per, aRs, inc, ecc, w, ld_quad, n_over=1, texpd=None):\n",
    "\n",
    "    t = np.asarray(time_in) # for convenience\n",
    "    \n",
    "    f1 = np.ones((len(t))) # create a model at 1.0 for all time points\n",
    "    half_dur_d = durations * cst.min2day # compute half duration in days for all the transits of all the planets\n",
    "    \n",
    "    # select transit times of all planets in the time range\n",
    "    tra_in_t = np.logical_and(transits >= t.min(), transits <= t.max())\n",
    "    n_tra = np.sum(tra_in_t)\n",
    "    \n",
    "    # select partial transits of all planets in the time range\n",
    "    tra_dur_in_t = np.logical_and(\n",
    "        transits - half_dur_d >= t.min(),\n",
    "        transits + half_dur_d <= t.max(),\n",
    "    )\n",
    "    n_dur = np.sum(tra_dur_in_t)\n",
    "    # number of events based on the max between n_tra and n_dur\n",
    "    if n_tra >= n_dur:\n",
    "        n = n_tra\n",
    "        sel_tra = tra_in_t\n",
    "    else:\n",
    "        n = n_dur\n",
    "        sel_tra = tra_dur_in_t\n",
    "\n",
    "    # compute transit model only if full or partial transits have been found\n",
    "    if n > 0:\n",
    "        # select transits and parameters\n",
    "        tra_sel = np.atleast_1d(transits[sel_tra])\n",
    "        rp_rs_sel = np.atleast_1d(rp_rs[sel_tra])\n",
    "        per_sel = np.atleast_1d(per[sel_tra])\n",
    "        aRs_sel = np.atleast_1d(aRs[sel_tra])\n",
    "        inc_sel = np.atleast_1d(inc[sel_tra])\n",
    "        ecc_sel = np.atleast_1d(ecc[sel_tra])\n",
    "        w_sel = np.atleast_1d(w[sel_tra])\n",
    "\n",
    "        flux_ = []\n",
    "        for itra, tra in enumerate(tra_sel): # loop in the selected transits (independent of the body)\n",
    "            ff = f1.copy()\n",
    "            sel_t = np.logical_and(\n",
    "                t >= tra - 0.5 * per[itra],\n",
    "                t <= tra + 0.5 * per[itra],\n",
    "            ) # select portion of the light curve centered on the transit time that cover a full period\n",
    "            tm.set_data(t[sel_t], nsamples=n_over, exptimes=texpd) # set the pytransit time data with oversampling if needed\n",
    "            ff[sel_t] = tm.evaluate(\n",
    "                k=rp_rs_sel[itra],\n",
    "                ldc=ld_quad,\n",
    "                t0=tra,\n",
    "                p=per_sel[itra],\n",
    "                a=aRs_sel[itra],\n",
    "                i=inc_sel[itra],\n",
    "                e=ecc_sel[itra],\n",
    "                w=w_sel[itra],\n",
    "            ) # compute the model and associate it only for the selected portion close to the transit\n",
    "            flux_.append(ff) # append it\n",
    "        f2d = np.atleast_2d(flux_)\n",
    "        flux = np.sum(f2d - 1.0, axis=0) + 1.0 # in one step it removes 1, sum flux for each time point, the re-add 1\n",
    "    else: # set to 1.0 the model flux if there are not transits (full or partials) in this photometry\n",
    "        flux = f1\n",
    "\n",
    "    return flux"
   ]
  },
  {
   "cell_type": "markdown",
   "metadata": {},
   "source": [
    "Here we are defining the input parameters for the compute_single_flux_pytransit function. We start with the LD coefficients (a set for TESS and another set for CHEOPS), then the transit model which will be quadratic RoadRunner, then the orbital parameters which we get from calling the pytrades.set_transit_parameters() method, the time stamps will be just the ones from TESS (time_s13) and the transit times and durations the ones retrieved from the orbital_parameters_to_transits() method up above."
   ]
  },
  {
   "cell_type": "markdown",
   "metadata": {},
   "source": [
    "define the LD for TESS"
   ]
  },
  {
   "cell_type": "code",
   "execution_count": null,
   "metadata": {},
   "outputs": [],
   "source": [
    "ld_vals = {\n",
    "    \"tess\": np.array([0.385, 0.322]),\n",
    "    \"cheops\": np.array([0.30, 0.41])\n",
    "}\n",
    "ld_quads = {k: v.copy() for k, v in ld_vals.items()}\n",
    "print(ld_quads)"
   ]
  },
  {
   "cell_type": "markdown",
   "metadata": {},
   "source": [
    "Instantiate the `pytransit` or `batman` model.\n",
    "Do it at the beginning, avoid to create it for each log-likelihood."
   ]
  },
  {
   "cell_type": "code",
   "execution_count": null,
   "metadata": {},
   "outputs": [],
   "source": [
    "tm = RoadRunnerModel(\"quadratic\")"
   ]
  },
  {
   "cell_type": "markdown",
   "metadata": {},
   "source": [
    "Prepare the parameters for pytransit (do it just once per log-likelihood computation)"
   ]
  },
  {
   "cell_type": "code",
   "execution_count": null,
   "metadata": {},
   "outputs": [],
   "source": [
    "rp_rs, per, aRs, inc, ecc, w = pytrades.set_transit_parameters(\n",
    "    R_rsun, transits, body_flag, kep_elem\n",
    ")\n",
    "# they match transits variable row-by-row"
   ]
  },
  {
   "cell_type": "code",
   "execution_count": null,
   "metadata": {},
   "outputs": [],
   "source": [
    "# I guess our output/resulting model is this flux_model\n",
    "# In this case, this one only takes TESS into account and also has gaps because it only uses the time stamps in time_s13\n",
    "# I believe I should be able to repeat the exact same procedure using the time stamps and ld coeffs from CHEOPS in order to get another model\n",
    "# Can I store these models in text files and use them as input for PyORBIT?\n",
    "flux_model_tess = compute_single_flux_pytransit(\n",
    "    tm, \n",
    "    time_s13, \n",
    "    transits, durations,\n",
    "    rp_rs, per, aRs, inc, ecc, w,\n",
    "    ld_quads[\"tess\"],\n",
    "    n_over=n_over,\n",
    "    texpd=texp\n",
    ")\n",
    "\n",
    "# just to have a full model (oversampled) and covering the gaps\n",
    "texpover = 120*cst.sec2day\n",
    "time_over_tess = np.arange(time_s13.min()-1.0, time_s13.max()+1.0, texpover)\n",
    "flux_model_over_tess = compute_single_flux_pytransit(\n",
    "    tm,\n",
    "    time_over_tess,\n",
    "    transits, durations,\n",
    "    rp_rs, per, aRs, inc, ecc, w,\n",
    "    ld_quads[\"tess\"],\n",
    "    n_over=1,\n",
    "    texpd=None\n",
    ")"
   ]
  },
  {
   "cell_type": "code",
   "execution_count": null,
   "metadata": {},
   "outputs": [],
   "source": [
    "# I wanna see what the model looks like\n",
    "\n",
    "#flux_model_tess\n",
    "#flux_sap_s13\n",
    "\n",
    "# It looks like the model is already normalized. Is this a probem?\n",
    "# The original flux_sap_s13 also seems to be already normalized/detrended"
   ]
  },
  {
   "cell_type": "code",
   "execution_count": null,
   "metadata": {},
   "outputs": [],
   "source": [
    "fig = plt.figure()\n",
    "\n",
    "plt.title(\"TESS-S13\")\n",
    "\n",
    "# Here we plot the OG TESS data set\n",
    "plt.errorbar(\n",
    "    time_s13, flux_sap_s13,\n",
    "    yerr=flux_sap_err_s13,\n",
    "    color='black',\n",
    "    fmt='o',\n",
    "    ms=1.5,\n",
    "    ls='',\n",
    "    ecolor='gray',\n",
    "    elinewidth=0.4,\n",
    "    capsize=0,\n",
    "    label=\"obs\",\n",
    "    zorder=6\n",
    ")\n",
    "\n",
    "# Here we plot the oversampled model (the one that fills in the gaps)\n",
    "plt.plot(\n",
    "    time_over_tess,\n",
    "    flux_model_over_tess,\n",
    "    color='C0',\n",
    "    marker='None',\n",
    "    ls='-',\n",
    "    lw=0.7,\n",
    "    label='oversampled',\n",
    "    zorder=7\n",
    ")\n",
    "\n",
    "# Here we plot the normal model (the one that doesn't fill in the gaps).\n",
    "plt.plot(\n",
    "    time_s13,\n",
    "    flux_model_tess,\n",
    "    color='C1',\n",
    "    marker='o',\n",
    "    ms=1.8,\n",
    "    mec='None',\n",
    "    ls='',\n",
    "    label='model',\n",
    "    zorder=8\n",
    ")\n",
    "\n",
    "plt.xticks(rotation=45)\n",
    "plt.legend(loc='lower right', fontsize=8)\n",
    "\n",
    "# # a zoom\n",
    "# x1, x2 = 1666, 1667.25\n",
    "# plt.xlim(x1,x2)\n",
    "\n",
    "plt.xlabel(\"Time ($\\mathrm{BJD_{TDB}} - 2457000$)\")\n",
    "plt.ylabel(\"norm. flux\")\n",
    "\n",
    "plt.show()\n",
    "plt.close(fig)"
   ]
  },
  {
   "cell_type": "code",
   "execution_count": null,
   "metadata": {},
   "outputs": [],
   "source": [
    "# Exact same procedure from above but with the first CHEOPS data set\n",
    "\n",
    "flux_model_cheops_b = compute_single_flux_pytransit(\n",
    "    tm, \n",
    "    time_cheops_b, \n",
    "    transits, durations,\n",
    "    rp_rs, per, aRs, inc, ecc, w,\n",
    "    ld_quads[\"cheops\"],\n",
    "    n_over=1,\n",
    "    texpd=None\n",
    ")\n",
    "\n",
    "# just to have a full model (oversampled) and covering the gaps\n",
    "texpover = 60*cst.sec2day\n",
    "time_over_cheops_b = np.arange(time_cheops_b.min()-0.25, time_cheops_b.max()+0.25, texpover)\n",
    "flux_model_over_cheops_b = compute_single_flux_pytransit(\n",
    "    tm,\n",
    "    time_over_cheops_b,\n",
    "    transits, durations,\n",
    "    rp_rs, per, aRs, inc, ecc, w,\n",
    "    ld_quads[\"cheops\"],\n",
    "    n_over=1,\n",
    "    texpd=None\n",
    ")"
   ]
  },
  {
   "cell_type": "code",
   "execution_count": null,
   "metadata": {},
   "outputs": [],
   "source": [
    "fig = plt.figure()\n",
    "\n",
    "plt.title(\"CHEOPS b\")\n",
    "plt.errorbar(\n",
    "    time_cheops_b, flux_cheops_b,\n",
    "    yerr=flux_cheops_err_b,\n",
    "    color='black',\n",
    "    fmt='o',\n",
    "    ms=1.5,\n",
    "    ls='',\n",
    "    ecolor='gray',\n",
    "    elinewidth=0.4,\n",
    "    capsize=0,\n",
    "    label=\"obs\",\n",
    "    zorder=6\n",
    ")\n",
    "\n",
    "plt.plot(\n",
    "    time_over_cheops_b,\n",
    "    flux_model_over_cheops_b,\n",
    "    color='C0',\n",
    "    marker='None',\n",
    "    ls='-',\n",
    "    lw=0.7,\n",
    "    label='oversampled',\n",
    "    zorder=7\n",
    ")\n",
    "\n",
    "plt.plot(\n",
    "    time_cheops_b,\n",
    "    flux_model_cheops_b,\n",
    "    color='C1',\n",
    "    marker='o',\n",
    "    ms=1.8,\n",
    "    mec='None',\n",
    "    ls='',\n",
    "    label='model',\n",
    "    zorder=8\n",
    ")\n",
    "\n",
    "plt.xticks(rotation=45)\n",
    "plt.legend(loc='lower right', fontsize=8)\n",
    "\n",
    "# # a zoom\n",
    "# x1, x2 = 1666, 1667.25\n",
    "# plt.xlim(x1,x2)\n",
    "\n",
    "plt.xlabel(\"Time ($\\mathrm{BJD_{TDB}} - 2457000$)\")\n",
    "plt.ylabel(\"norm. flux\")\n",
    "\n",
    "plt.show()\n",
    "plt.close(fig)"
   ]
  },
  {
   "cell_type": "code",
   "execution_count": null,
   "metadata": {},
   "outputs": [],
   "source": [
    "# Exact same thing with the second CHEOPS dataset\n",
    "\n",
    "flux_model_cheops_c = compute_single_flux_pytransit(\n",
    "    tm, \n",
    "    time_cheops_c, \n",
    "    transits, durations,\n",
    "    rp_rs, per, aRs, inc, ecc, w,\n",
    "    ld_quads[\"cheops\"],\n",
    "    n_over=1,\n",
    "    texpd=None\n",
    ")\n",
    "\n",
    "# just to have a full model (oversampled) and covering the gaps\n",
    "texpover = 60*cst.sec2day\n",
    "time_over_cheops_c = np.arange(time_cheops_c.min()-0.25, time_cheops_c.max()+0.25, texpover)\n",
    "flux_model_over_cheops_c = compute_single_flux_pytransit(\n",
    "    tm,\n",
    "    time_over_cheops_c,\n",
    "    transits, durations,\n",
    "    rp_rs, per, aRs, inc, ecc, w,\n",
    "    ld_quads[\"cheops\"],\n",
    "    n_over=1,\n",
    "    texpd=None\n",
    ")"
   ]
  },
  {
   "cell_type": "code",
   "execution_count": null,
   "metadata": {},
   "outputs": [],
   "source": [
    "fig = plt.figure()\n",
    "\n",
    "plt.title(\"CHEOPS c\")\n",
    "plt.errorbar(\n",
    "    time_cheops_c, flux_cheops_c,\n",
    "    yerr=flux_cheops_err_c,\n",
    "    color='black',\n",
    "    fmt='o',\n",
    "    ms=1.5,\n",
    "    ls='',\n",
    "    ecolor='gray',\n",
    "    elinewidth=0.4,\n",
    "    capsize=0,\n",
    "    label=\"obs\",\n",
    "    zorder=6\n",
    ")\n",
    "\n",
    "plt.plot(\n",
    "    time_over_cheops_c,\n",
    "    flux_model_over_cheops_c,\n",
    "    color='C0',\n",
    "    marker='None',\n",
    "    ls='-',\n",
    "    lw=0.7,\n",
    "    label='oversampled',\n",
    "    zorder=7\n",
    ")\n",
    "\n",
    "plt.plot(\n",
    "    time_cheops_c,\n",
    "    flux_model_cheops_c,\n",
    "    color='C1',\n",
    "    marker='o',\n",
    "    ms=1.8,\n",
    "    mec='None',\n",
    "    ls='',\n",
    "    label='model',\n",
    "    zorder=8\n",
    ")\n",
    "\n",
    "plt.xticks(rotation=45)\n",
    "plt.legend(loc='lower right', fontsize=8)\n",
    "\n",
    "# # a zoom\n",
    "# x1, x2 = 1666, 1667.25\n",
    "# plt.xlim(x1,x2)\n",
    "\n",
    "plt.xlabel(\"Time ($\\mathrm{BJD_{TDB}} - 2457000$)\")\n",
    "plt.ylabel(\"norm. flux\")\n",
    "\n",
    "plt.show()\n",
    "plt.close(fig)"
   ]
  },
  {
   "cell_type": "code",
   "execution_count": null,
   "metadata": {},
   "outputs": [],
   "source": [
    "# Exact same thing with the third CHEOPS data set, the one with overlapped transits of both planets b and c\n",
    "\n",
    "flux_model_cheops_bc = compute_single_flux_pytransit(\n",
    "    tm, \n",
    "    time_cheops_bc, \n",
    "    transits, durations,\n",
    "    rp_rs, per, aRs, inc, ecc, w,\n",
    "    ld_quads[\"cheops\"],\n",
    "    n_over=1,\n",
    "    texpd=None\n",
    ")\n",
    "\n",
    "# just to have a full model (oversampled) and covering the gaps\n",
    "texpover = 60*cst.sec2day\n",
    "time_over_cheops_bc = np.arange(time_cheops_bc.min()-0.25, time_cheops_bc.max()+0.25, texpover)\n",
    "flux_model_over_cheops_bc = compute_single_flux_pytransit(\n",
    "    tm,\n",
    "    time_over_cheops_bc,\n",
    "    transits, durations,\n",
    "    rp_rs, per, aRs, inc, ecc, w,\n",
    "    ld_quads[\"cheops\"],\n",
    "    n_over=1,\n",
    "    texpd=None\n",
    ")"
   ]
  },
  {
   "cell_type": "code",
   "execution_count": null,
   "metadata": {},
   "outputs": [],
   "source": [
    "fig = plt.figure()\n",
    "\n",
    "plt.title(\"CHEOPS bc\")\n",
    "plt.errorbar(\n",
    "    time_cheops_bc, flux_cheops_bc,\n",
    "    yerr=flux_cheops_err_bc,\n",
    "    color='black',\n",
    "    fmt='o',\n",
    "    ms=1.5,\n",
    "    ls='',\n",
    "    ecolor='gray',\n",
    "    elinewidth=0.4,\n",
    "    capsize=0,\n",
    "    label=\"obs\",\n",
    "    zorder=6\n",
    ")\n",
    "\n",
    "plt.plot(\n",
    "    time_over_cheops_bc,\n",
    "    flux_model_over_cheops_bc,\n",
    "    color='C0',\n",
    "    marker='None',\n",
    "    ls='-',\n",
    "    lw=0.7,\n",
    "    label='oversampled',\n",
    "    zorder=7\n",
    ")\n",
    "\n",
    "plt.plot(\n",
    "    time_cheops_bc,\n",
    "    flux_model_cheops_bc,\n",
    "    color='C1',\n",
    "    marker='o',\n",
    "    ms=1.8,\n",
    "    mec='None',\n",
    "    ls='',\n",
    "    label='model',\n",
    "    zorder=8\n",
    ")\n",
    "\n",
    "plt.xticks(rotation=45)\n",
    "plt.legend(loc='lower right', fontsize=8)\n",
    "\n",
    "# # a zoom\n",
    "# x1, x2 = 1666, 1667.25\n",
    "# plt.xlim(x1,x2)\n",
    "\n",
    "plt.xlabel(\"Time ($\\mathrm{BJD_{TDB}} - 2457000$)\")\n",
    "plt.ylabel(\"norm. flux\")\n",
    "\n",
    "plt.show()\n",
    "plt.close(fig)"
   ]
  },
  {
   "cell_type": "markdown",
   "metadata": {},
   "source": []
  },
  {
   "cell_type": "code",
   "execution_count": null,
   "metadata": {},
   "outputs": [],
   "source": []
  }
 ],
 "metadata": {
  "kernelspec": {
   "display_name": "Python 3 (ipykernel)",
   "language": "python",
   "name": "python3"
  },
  "language_info": {
   "codemirror_mode": {
    "name": "ipython",
    "version": 3
   },
   "file_extension": ".py",
   "mimetype": "text/x-python",
   "name": "python",
   "nbconvert_exporter": "python",
   "pygments_lexer": "ipython3",
   "version": "3.10.16"
  }
 },
 "nbformat": 4,
 "nbformat_minor": 4
}
